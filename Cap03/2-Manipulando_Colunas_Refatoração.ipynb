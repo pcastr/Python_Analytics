{
 "cells": [
  {
   "cell_type": "markdown",
   "id": "860a5abb",
   "metadata": {},
   "source": [
    "# <font color=\"blue\">Big Data Real-Time Analytics com Python e Spark</font>\n",
    "\n",
    "## <font color=\"blue\">Capítulo 3 - Manipulação de Dados em Python com Pandas</font>"
   ]
  },
  {
   "cell_type": "code",
   "execution_count": 1,
   "id": "f4c10620",
   "metadata": {},
   "outputs": [
    {
     "name": "stdout",
     "output_type": "stream",
     "text": [
      "Versão da Linguagem Python Usada Neste Jupyter Notebook 3.9.12\n"
     ]
    }
   ],
   "source": [
    "# Versão da Linguagem Python\n",
    "from platform import python_version\n",
    "print('Versão da Linguagem Python Usada Neste Jupyter Notebook', python_version())"
   ]
  },
  {
   "cell_type": "code",
   "execution_count": 2,
   "id": "c8e84bb7",
   "metadata": {},
   "outputs": [],
   "source": [
    "# Importando o módulo Pandas\n",
    "import pandas as pd"
   ]
  },
  {
   "cell_type": "code",
   "execution_count": 3,
   "id": "dec0765a",
   "metadata": {},
   "outputs": [
    {
     "name": "stdout",
     "output_type": "stream",
     "text": [
      "Author: Lucas Castro\n",
      "\n",
      "pandas: 1.4.2\n",
      "\n"
     ]
    }
   ],
   "source": [
    "# Versões dos pacotes usados neste notebook\n",
    "%reload_ext watermark\n",
    "%watermark -a \"Lucas Castro\" --iversions"
   ]
  },
  {
   "cell_type": "markdown",
   "id": "20a9a945",
   "metadata": {},
   "source": [
    "# Manipulação no Nível de Coluna e Refatoração"
   ]
  },
  {
   "cell_type": "code",
   "execution_count": 4,
   "id": "c7da06f6",
   "metadata": {},
   "outputs": [],
   "source": [
    "# Carrega um arquivo do disco e armazena como dataframe\n",
    "df = pd.read_csv(\"dados/dataset1.csv\")"
   ]
  },
  {
   "cell_type": "code",
   "execution_count": 5,
   "id": "bb6478a6",
   "metadata": {},
   "outputs": [
    {
     "data": {
      "text/html": [
       "<div>\n",
       "<style scoped>\n",
       "    .dataframe tbody tr th:only-of-type {\n",
       "        vertical-align: middle;\n",
       "    }\n",
       "\n",
       "    .dataframe tbody tr th {\n",
       "        vertical-align: top;\n",
       "    }\n",
       "\n",
       "    .dataframe thead th {\n",
       "        text-align: right;\n",
       "    }\n",
       "</style>\n",
       "<table border=\"1\" class=\"dataframe\">\n",
       "  <thead>\n",
       "    <tr style=\"text-align: right;\">\n",
       "      <th></th>\n",
       "      <th>club</th>\n",
       "      <th>last_name</th>\n",
       "      <th>first_name</th>\n",
       "      <th>position</th>\n",
       "      <th>base_salary</th>\n",
       "      <th>guaranteed_compensation</th>\n",
       "    </tr>\n",
       "  </thead>\n",
       "  <tbody>\n",
       "    <tr>\n",
       "      <th>0</th>\n",
       "      <td>ATL</td>\n",
       "      <td>Almiron</td>\n",
       "      <td>Miguel</td>\n",
       "      <td>M</td>\n",
       "      <td>1912500.0</td>\n",
       "      <td>2297000.00</td>\n",
       "    </tr>\n",
       "    <tr>\n",
       "      <th>1</th>\n",
       "      <td>ATL</td>\n",
       "      <td>Ambrose</td>\n",
       "      <td>Mikey</td>\n",
       "      <td>D</td>\n",
       "      <td>65625.0</td>\n",
       "      <td>65625.00</td>\n",
       "    </tr>\n",
       "    <tr>\n",
       "      <th>2</th>\n",
       "      <td>ATL</td>\n",
       "      <td>Asad</td>\n",
       "      <td>Yamil</td>\n",
       "      <td>M</td>\n",
       "      <td>150000.0</td>\n",
       "      <td>150000.00</td>\n",
       "    </tr>\n",
       "    <tr>\n",
       "      <th>3</th>\n",
       "      <td>ATL</td>\n",
       "      <td>Bloom</td>\n",
       "      <td>Mark</td>\n",
       "      <td>D</td>\n",
       "      <td>99225.0</td>\n",
       "      <td>106573.89</td>\n",
       "    </tr>\n",
       "    <tr>\n",
       "      <th>4</th>\n",
       "      <td>ATL</td>\n",
       "      <td>Carleton</td>\n",
       "      <td>Andrew</td>\n",
       "      <td>F</td>\n",
       "      <td>65000.0</td>\n",
       "      <td>77400.00</td>\n",
       "    </tr>\n",
       "  </tbody>\n",
       "</table>\n",
       "</div>"
      ],
      "text/plain": [
       "  club last_name first_name position  base_salary  guaranteed_compensation\n",
       "0  ATL   Almiron     Miguel        M    1912500.0               2297000.00\n",
       "1  ATL   Ambrose      Mikey        D      65625.0                 65625.00\n",
       "2  ATL      Asad      Yamil        M     150000.0                150000.00\n",
       "3  ATL     Bloom       Mark        D      99225.0                106573.89\n",
       "4  ATL  Carleton     Andrew        F      65000.0                 77400.00"
      ]
     },
     "execution_count": 5,
     "metadata": {},
     "output_type": "execute_result"
    }
   ],
   "source": [
    "df.head()"
   ]
  },
  {
   "cell_type": "code",
   "execution_count": 6,
   "id": "95924f07",
   "metadata": {},
   "outputs": [
    {
     "data": {
      "text/plain": [
       "0       Miguel\n",
       "1        Mikey\n",
       "2        Yamil\n",
       "3         Mark\n",
       "4       Andrew\n",
       "        ...   \n",
       "610    Russell\n",
       "611      Paolo\n",
       "612    Kendall\n",
       "613        NaN\n",
       "614    Sheanon\n",
       "Name: first_name, Length: 615, dtype: object"
      ]
     },
     "execution_count": 6,
     "metadata": {},
     "output_type": "execute_result"
    }
   ],
   "source": [
    "# Extraindo dados de 1 coluna \n",
    "df.first_name"
   ]
  },
  {
   "cell_type": "code",
   "execution_count": 7,
   "id": "87c8a3ac",
   "metadata": {},
   "outputs": [
    {
     "data": {
      "text/html": [
       "<div>\n",
       "<style scoped>\n",
       "    .dataframe tbody tr th:only-of-type {\n",
       "        vertical-align: middle;\n",
       "    }\n",
       "\n",
       "    .dataframe tbody tr th {\n",
       "        vertical-align: top;\n",
       "    }\n",
       "\n",
       "    .dataframe thead th {\n",
       "        text-align: right;\n",
       "    }\n",
       "</style>\n",
       "<table border=\"1\" class=\"dataframe\">\n",
       "  <thead>\n",
       "    <tr style=\"text-align: right;\">\n",
       "      <th></th>\n",
       "      <th>first_name</th>\n",
       "      <th>base_salary</th>\n",
       "    </tr>\n",
       "  </thead>\n",
       "  <tbody>\n",
       "    <tr>\n",
       "      <th>0</th>\n",
       "      <td>Miguel</td>\n",
       "      <td>1912500.0</td>\n",
       "    </tr>\n",
       "    <tr>\n",
       "      <th>1</th>\n",
       "      <td>Mikey</td>\n",
       "      <td>65625.0</td>\n",
       "    </tr>\n",
       "    <tr>\n",
       "      <th>2</th>\n",
       "      <td>Yamil</td>\n",
       "      <td>150000.0</td>\n",
       "    </tr>\n",
       "    <tr>\n",
       "      <th>3</th>\n",
       "      <td>Mark</td>\n",
       "      <td>99225.0</td>\n",
       "    </tr>\n",
       "    <tr>\n",
       "      <th>4</th>\n",
       "      <td>Andrew</td>\n",
       "      <td>65000.0</td>\n",
       "    </tr>\n",
       "    <tr>\n",
       "      <th>...</th>\n",
       "      <td>...</td>\n",
       "      <td>...</td>\n",
       "    </tr>\n",
       "    <tr>\n",
       "      <th>610</th>\n",
       "      <td>Russell</td>\n",
       "      <td>126500.0</td>\n",
       "    </tr>\n",
       "    <tr>\n",
       "      <th>611</th>\n",
       "      <td>Paolo</td>\n",
       "      <td>80000.0</td>\n",
       "    </tr>\n",
       "    <tr>\n",
       "      <th>612</th>\n",
       "      <td>Kendall</td>\n",
       "      <td>350000.0</td>\n",
       "    </tr>\n",
       "    <tr>\n",
       "      <th>613</th>\n",
       "      <td>NaN</td>\n",
       "      <td>NaN</td>\n",
       "    </tr>\n",
       "    <tr>\n",
       "      <th>614</th>\n",
       "      <td>Sheanon</td>\n",
       "      <td>175000.0</td>\n",
       "    </tr>\n",
       "  </tbody>\n",
       "</table>\n",
       "<p>615 rows × 2 columns</p>\n",
       "</div>"
      ],
      "text/plain": [
       "    first_name  base_salary\n",
       "0       Miguel    1912500.0\n",
       "1        Mikey      65625.0\n",
       "2        Yamil     150000.0\n",
       "3         Mark      99225.0\n",
       "4       Andrew      65000.0\n",
       "..         ...          ...\n",
       "610    Russell     126500.0\n",
       "611      Paolo      80000.0\n",
       "612    Kendall     350000.0\n",
       "613        NaN          NaN\n",
       "614    Sheanon     175000.0\n",
       "\n",
       "[615 rows x 2 columns]"
      ]
     },
     "execution_count": 7,
     "metadata": {},
     "output_type": "execute_result"
    }
   ],
   "source": [
    "# Extraindo dados de 2 colunas \n",
    "df[['first_name','base_salary']]"
   ]
  },
  {
   "cell_type": "code",
   "execution_count": 8,
   "id": "f87c8eff",
   "metadata": {},
   "outputs": [
    {
     "data": {
      "text/html": [
       "<div>\n",
       "<style scoped>\n",
       "    .dataframe tbody tr th:only-of-type {\n",
       "        vertical-align: middle;\n",
       "    }\n",
       "\n",
       "    .dataframe tbody tr th {\n",
       "        vertical-align: top;\n",
       "    }\n",
       "\n",
       "    .dataframe thead th {\n",
       "        text-align: right;\n",
       "    }\n",
       "</style>\n",
       "<table border=\"1\" class=\"dataframe\">\n",
       "  <thead>\n",
       "    <tr style=\"text-align: right;\">\n",
       "      <th></th>\n",
       "      <th>first_name</th>\n",
       "      <th>base_salary</th>\n",
       "    </tr>\n",
       "  </thead>\n",
       "  <tbody>\n",
       "    <tr>\n",
       "      <th>0</th>\n",
       "      <td>Miguel</td>\n",
       "      <td>1912500.0</td>\n",
       "    </tr>\n",
       "    <tr>\n",
       "      <th>1</th>\n",
       "      <td>Mikey</td>\n",
       "      <td>65625.0</td>\n",
       "    </tr>\n",
       "    <tr>\n",
       "      <th>2</th>\n",
       "      <td>Yamil</td>\n",
       "      <td>150000.0</td>\n",
       "    </tr>\n",
       "    <tr>\n",
       "      <th>3</th>\n",
       "      <td>Mark</td>\n",
       "      <td>99225.0</td>\n",
       "    </tr>\n",
       "    <tr>\n",
       "      <th>4</th>\n",
       "      <td>Andrew</td>\n",
       "      <td>65000.0</td>\n",
       "    </tr>\n",
       "  </tbody>\n",
       "</table>\n",
       "</div>"
      ],
      "text/plain": [
       "  first_name  base_salary\n",
       "0     Miguel    1912500.0\n",
       "1      Mikey      65625.0\n",
       "2      Yamil     150000.0\n",
       "3       Mark      99225.0\n",
       "4     Andrew      65000.0"
      ]
     },
     "execution_count": 8,
     "metadata": {},
     "output_type": "execute_result"
    }
   ],
   "source": [
    "# Podemos usar métodos com o resultado do slicing\n",
    "df[['first_name','base_salary']].head()"
   ]
  },
  {
   "cell_type": "code",
   "execution_count": 9,
   "id": "d8fcd61f",
   "metadata": {},
   "outputs": [
    {
     "data": {
      "text/html": [
       "<div>\n",
       "<style scoped>\n",
       "    .dataframe tbody tr th:only-of-type {\n",
       "        vertical-align: middle;\n",
       "    }\n",
       "\n",
       "    .dataframe tbody tr th {\n",
       "        vertical-align: top;\n",
       "    }\n",
       "\n",
       "    .dataframe thead th {\n",
       "        text-align: right;\n",
       "    }\n",
       "</style>\n",
       "<table border=\"1\" class=\"dataframe\">\n",
       "  <thead>\n",
       "    <tr style=\"text-align: right;\">\n",
       "      <th></th>\n",
       "      <th>base_salary</th>\n",
       "    </tr>\n",
       "  </thead>\n",
       "  <tbody>\n",
       "    <tr>\n",
       "      <th>count</th>\n",
       "      <td>6.140000e+02</td>\n",
       "    </tr>\n",
       "    <tr>\n",
       "      <th>mean</th>\n",
       "      <td>2.971730e+05</td>\n",
       "    </tr>\n",
       "    <tr>\n",
       "      <th>std</th>\n",
       "      <td>6.725839e+05</td>\n",
       "    </tr>\n",
       "    <tr>\n",
       "      <th>min</th>\n",
       "      <td>5.299992e+04</td>\n",
       "    </tr>\n",
       "    <tr>\n",
       "      <th>25%</th>\n",
       "      <td>6.563340e+04</td>\n",
       "    </tr>\n",
       "    <tr>\n",
       "      <th>50%</th>\n",
       "      <td>1.250000e+05</td>\n",
       "    </tr>\n",
       "    <tr>\n",
       "      <th>75%</th>\n",
       "      <td>2.550000e+05</td>\n",
       "    </tr>\n",
       "    <tr>\n",
       "      <th>max</th>\n",
       "      <td>6.660000e+06</td>\n",
       "    </tr>\n",
       "  </tbody>\n",
       "</table>\n",
       "</div>"
      ],
      "text/plain": [
       "        base_salary\n",
       "count  6.140000e+02\n",
       "mean   2.971730e+05\n",
       "std    6.725839e+05\n",
       "min    5.299992e+04\n",
       "25%    6.563340e+04\n",
       "50%    1.250000e+05\n",
       "75%    2.550000e+05\n",
       "max    6.660000e+06"
      ]
     },
     "execution_count": 9,
     "metadata": {},
     "output_type": "execute_result"
    }
   ],
   "source": [
    "# Podemos usar métodos com o resultado do slicing\n",
    "df[['first_name','base_salary']].describe()"
   ]
  },
  {
   "cell_type": "code",
   "execution_count": 10,
   "id": "c1b34520",
   "metadata": {},
   "outputs": [
    {
     "data": {
      "text/html": [
       "<div>\n",
       "<style scoped>\n",
       "    .dataframe tbody tr th:only-of-type {\n",
       "        vertical-align: middle;\n",
       "    }\n",
       "\n",
       "    .dataframe tbody tr th {\n",
       "        vertical-align: top;\n",
       "    }\n",
       "\n",
       "    .dataframe thead th {\n",
       "        text-align: right;\n",
       "    }\n",
       "</style>\n",
       "<table border=\"1\" class=\"dataframe\">\n",
       "  <thead>\n",
       "    <tr style=\"text-align: right;\">\n",
       "      <th></th>\n",
       "      <th>first_name</th>\n",
       "      <th>base_salary</th>\n",
       "      <th>club</th>\n",
       "    </tr>\n",
       "  </thead>\n",
       "  <tbody>\n",
       "    <tr>\n",
       "      <th>0</th>\n",
       "      <td>Miguel</td>\n",
       "      <td>1912500.0</td>\n",
       "      <td>ATL</td>\n",
       "    </tr>\n",
       "    <tr>\n",
       "      <th>1</th>\n",
       "      <td>Mikey</td>\n",
       "      <td>65625.0</td>\n",
       "      <td>ATL</td>\n",
       "    </tr>\n",
       "    <tr>\n",
       "      <th>2</th>\n",
       "      <td>Yamil</td>\n",
       "      <td>150000.0</td>\n",
       "      <td>ATL</td>\n",
       "    </tr>\n",
       "    <tr>\n",
       "      <th>3</th>\n",
       "      <td>Mark</td>\n",
       "      <td>99225.0</td>\n",
       "      <td>ATL</td>\n",
       "    </tr>\n",
       "    <tr>\n",
       "      <th>4</th>\n",
       "      <td>Andrew</td>\n",
       "      <td>65000.0</td>\n",
       "      <td>ATL</td>\n",
       "    </tr>\n",
       "    <tr>\n",
       "      <th>...</th>\n",
       "      <td>...</td>\n",
       "      <td>...</td>\n",
       "      <td>...</td>\n",
       "    </tr>\n",
       "    <tr>\n",
       "      <th>610</th>\n",
       "      <td>Russell</td>\n",
       "      <td>126500.0</td>\n",
       "      <td>VAN</td>\n",
       "    </tr>\n",
       "    <tr>\n",
       "      <th>611</th>\n",
       "      <td>Paolo</td>\n",
       "      <td>80000.0</td>\n",
       "      <td>VAN</td>\n",
       "    </tr>\n",
       "    <tr>\n",
       "      <th>612</th>\n",
       "      <td>Kendall</td>\n",
       "      <td>350000.0</td>\n",
       "      <td>VAN</td>\n",
       "    </tr>\n",
       "    <tr>\n",
       "      <th>613</th>\n",
       "      <td>NaN</td>\n",
       "      <td>NaN</td>\n",
       "      <td>NaN</td>\n",
       "    </tr>\n",
       "    <tr>\n",
       "      <th>614</th>\n",
       "      <td>Sheanon</td>\n",
       "      <td>175000.0</td>\n",
       "      <td>VAN</td>\n",
       "    </tr>\n",
       "  </tbody>\n",
       "</table>\n",
       "<p>615 rows × 3 columns</p>\n",
       "</div>"
      ],
      "text/plain": [
       "    first_name  base_salary club\n",
       "0       Miguel    1912500.0  ATL\n",
       "1        Mikey      65625.0  ATL\n",
       "2        Yamil     150000.0  ATL\n",
       "3         Mark      99225.0  ATL\n",
       "4       Andrew      65000.0  ATL\n",
       "..         ...          ...  ...\n",
       "610    Russell     126500.0  VAN\n",
       "611      Paolo      80000.0  VAN\n",
       "612    Kendall     350000.0  VAN\n",
       "613        NaN          NaN  NaN\n",
       "614    Sheanon     175000.0  VAN\n",
       "\n",
       "[615 rows x 3 columns]"
      ]
     },
     "execution_count": 10,
     "metadata": {},
     "output_type": "execute_result"
    }
   ],
   "source": [
    "# Extraindo 3 colunas\n",
    "df[['first_name','base_salary','club']]"
   ]
  },
  {
   "cell_type": "markdown",
   "id": "c8720d3e",
   "metadata": {},
   "source": [
    "> Refatoração é o processo de reorganizar o código para torná-lo mai legível ou mais performático"
   ]
  },
  {
   "cell_type": "code",
   "execution_count": 11,
   "id": "5321860f",
   "metadata": {},
   "outputs": [],
   "source": [
    "#  Criamos uma variável com lista de nomes de colunas\n",
    "salary = ['first_name','base_salary','club']"
   ]
  },
  {
   "cell_type": "code",
   "execution_count": 12,
   "id": "da2e38d3",
   "metadata": {},
   "outputs": [
    {
     "data": {
      "text/plain": [
       "list"
      ]
     },
     "execution_count": 12,
     "metadata": {},
     "output_type": "execute_result"
    }
   ],
   "source": [
    "type(salary)"
   ]
  },
  {
   "cell_type": "code",
   "execution_count": 13,
   "id": "ec76f2bf",
   "metadata": {},
   "outputs": [
    {
     "data": {
      "text/html": [
       "<div>\n",
       "<style scoped>\n",
       "    .dataframe tbody tr th:only-of-type {\n",
       "        vertical-align: middle;\n",
       "    }\n",
       "\n",
       "    .dataframe tbody tr th {\n",
       "        vertical-align: top;\n",
       "    }\n",
       "\n",
       "    .dataframe thead th {\n",
       "        text-align: right;\n",
       "    }\n",
       "</style>\n",
       "<table border=\"1\" class=\"dataframe\">\n",
       "  <thead>\n",
       "    <tr style=\"text-align: right;\">\n",
       "      <th></th>\n",
       "      <th>first_name</th>\n",
       "      <th>base_salary</th>\n",
       "      <th>club</th>\n",
       "    </tr>\n",
       "  </thead>\n",
       "  <tbody>\n",
       "    <tr>\n",
       "      <th>0</th>\n",
       "      <td>Miguel</td>\n",
       "      <td>1912500.0</td>\n",
       "      <td>ATL</td>\n",
       "    </tr>\n",
       "    <tr>\n",
       "      <th>1</th>\n",
       "      <td>Mikey</td>\n",
       "      <td>65625.0</td>\n",
       "      <td>ATL</td>\n",
       "    </tr>\n",
       "    <tr>\n",
       "      <th>2</th>\n",
       "      <td>Yamil</td>\n",
       "      <td>150000.0</td>\n",
       "      <td>ATL</td>\n",
       "    </tr>\n",
       "    <tr>\n",
       "      <th>3</th>\n",
       "      <td>Mark</td>\n",
       "      <td>99225.0</td>\n",
       "      <td>ATL</td>\n",
       "    </tr>\n",
       "    <tr>\n",
       "      <th>4</th>\n",
       "      <td>Andrew</td>\n",
       "      <td>65000.0</td>\n",
       "      <td>ATL</td>\n",
       "    </tr>\n",
       "    <tr>\n",
       "      <th>...</th>\n",
       "      <td>...</td>\n",
       "      <td>...</td>\n",
       "      <td>...</td>\n",
       "    </tr>\n",
       "    <tr>\n",
       "      <th>610</th>\n",
       "      <td>Russell</td>\n",
       "      <td>126500.0</td>\n",
       "      <td>VAN</td>\n",
       "    </tr>\n",
       "    <tr>\n",
       "      <th>611</th>\n",
       "      <td>Paolo</td>\n",
       "      <td>80000.0</td>\n",
       "      <td>VAN</td>\n",
       "    </tr>\n",
       "    <tr>\n",
       "      <th>612</th>\n",
       "      <td>Kendall</td>\n",
       "      <td>350000.0</td>\n",
       "      <td>VAN</td>\n",
       "    </tr>\n",
       "    <tr>\n",
       "      <th>613</th>\n",
       "      <td>NaN</td>\n",
       "      <td>NaN</td>\n",
       "      <td>NaN</td>\n",
       "    </tr>\n",
       "    <tr>\n",
       "      <th>614</th>\n",
       "      <td>Sheanon</td>\n",
       "      <td>175000.0</td>\n",
       "      <td>VAN</td>\n",
       "    </tr>\n",
       "  </tbody>\n",
       "</table>\n",
       "<p>615 rows × 3 columns</p>\n",
       "</div>"
      ],
      "text/plain": [
       "    first_name  base_salary club\n",
       "0       Miguel    1912500.0  ATL\n",
       "1        Mikey      65625.0  ATL\n",
       "2        Yamil     150000.0  ATL\n",
       "3         Mark      99225.0  ATL\n",
       "4       Andrew      65000.0  ATL\n",
       "..         ...          ...  ...\n",
       "610    Russell     126500.0  VAN\n",
       "611      Paolo      80000.0  VAN\n",
       "612    Kendall     350000.0  VAN\n",
       "613        NaN          NaN  NaN\n",
       "614    Sheanon     175000.0  VAN\n",
       "\n",
       "[615 rows x 3 columns]"
      ]
     },
     "execution_count": 13,
     "metadata": {},
     "output_type": "execute_result"
    }
   ],
   "source": [
    "# Usamos a variável para filtrar o dataframe\n",
    "df[salary]"
   ]
  },
  {
   "cell_type": "code",
   "execution_count": 14,
   "id": "d282eb12",
   "metadata": {},
   "outputs": [
    {
     "data": {
      "text/html": [
       "<div>\n",
       "<style scoped>\n",
       "    .dataframe tbody tr th:only-of-type {\n",
       "        vertical-align: middle;\n",
       "    }\n",
       "\n",
       "    .dataframe tbody tr th {\n",
       "        vertical-align: top;\n",
       "    }\n",
       "\n",
       "    .dataframe thead th {\n",
       "        text-align: right;\n",
       "    }\n",
       "</style>\n",
       "<table border=\"1\" class=\"dataframe\">\n",
       "  <thead>\n",
       "    <tr style=\"text-align: right;\">\n",
       "      <th></th>\n",
       "      <th>first_name</th>\n",
       "      <th>base_salary</th>\n",
       "      <th>club</th>\n",
       "    </tr>\n",
       "  </thead>\n",
       "  <tbody>\n",
       "    <tr>\n",
       "      <th>610</th>\n",
       "      <td>Russell</td>\n",
       "      <td>126500.0</td>\n",
       "      <td>VAN</td>\n",
       "    </tr>\n",
       "    <tr>\n",
       "      <th>611</th>\n",
       "      <td>Paolo</td>\n",
       "      <td>80000.0</td>\n",
       "      <td>VAN</td>\n",
       "    </tr>\n",
       "    <tr>\n",
       "      <th>612</th>\n",
       "      <td>Kendall</td>\n",
       "      <td>350000.0</td>\n",
       "      <td>VAN</td>\n",
       "    </tr>\n",
       "    <tr>\n",
       "      <th>613</th>\n",
       "      <td>NaN</td>\n",
       "      <td>NaN</td>\n",
       "      <td>NaN</td>\n",
       "    </tr>\n",
       "    <tr>\n",
       "      <th>614</th>\n",
       "      <td>Sheanon</td>\n",
       "      <td>175000.0</td>\n",
       "      <td>VAN</td>\n",
       "    </tr>\n",
       "  </tbody>\n",
       "</table>\n",
       "</div>"
      ],
      "text/plain": [
       "    first_name  base_salary club\n",
       "610    Russell     126500.0  VAN\n",
       "611      Paolo      80000.0  VAN\n",
       "612    Kendall     350000.0  VAN\n",
       "613        NaN          NaN  NaN\n",
       "614    Sheanon     175000.0  VAN"
      ]
     },
     "execution_count": 14,
     "metadata": {},
     "output_type": "execute_result"
    }
   ],
   "source": [
    "# E usamos métodos e atributos normalmente\n",
    "df[salary].tail()"
   ]
  },
  {
   "cell_type": "code",
   "execution_count": 15,
   "id": "1bebd1a4",
   "metadata": {},
   "outputs": [
    {
     "data": {
      "text/plain": [
       "(615, 3)"
      ]
     },
     "execution_count": 15,
     "metadata": {},
     "output_type": "execute_result"
    }
   ],
   "source": [
    "df[salary].shape"
   ]
  },
  {
   "cell_type": "markdown",
   "id": "26da6aa3",
   "metadata": {},
   "source": [
    "# FIM"
   ]
  }
 ],
 "metadata": {
  "kernelspec": {
   "display_name": "Python 3 (ipykernel)",
   "language": "python",
   "name": "python3"
  },
  "language_info": {
   "codemirror_mode": {
    "name": "ipython",
    "version": 3
   },
   "file_extension": ".py",
   "mimetype": "text/x-python",
   "name": "python",
   "nbconvert_exporter": "python",
   "pygments_lexer": "ipython3",
   "version": "3.9.12"
  }
 },
 "nbformat": 4,
 "nbformat_minor": 5
}
