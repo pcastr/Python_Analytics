{
 "cells": [
  {
   "cell_type": "markdown",
   "id": "378e55aa",
   "metadata": {},
   "source": [
    "# Distribuição de Frequencia "
   ]
  },
  {
   "cell_type": "code",
   "execution_count": 1,
   "id": "cdb0042a",
   "metadata": {},
   "outputs": [
    {
     "name": "stdout",
     "output_type": "stream",
     "text": [
      "Versão da Linguagem Python Usada Neste Jupyter Notebook: 3.9.12\n"
     ]
    }
   ],
   "source": [
    "# Versão da Linguagem Python\n",
    "from platform import python_version\n",
    "print('Versão da Linguagem Python Usada Neste Jupyter Notebook:', python_version())"
   ]
  },
  {
   "cell_type": "markdown",
   "id": "ef755de7",
   "metadata": {},
   "source": [
    "O instrutor da DSA coletou as notas de todos os alunos na avaliação final do curso de Machine Learning. O instrutor gostaria de tabular os dados a fim de extrair insights e compreender como os dados estão organizados. Crie uma distribuição de frequência para ajudar o instrutor."
   ]
  },
  {
   "cell_type": "code",
   "execution_count": 2,
   "id": "69628d60",
   "metadata": {},
   "outputs": [],
   "source": [
    "# Imports\n",
    "import pandas as pd"
   ]
  },
  {
   "cell_type": "code",
   "execution_count": 3,
   "id": "24d7a476",
   "metadata": {},
   "outputs": [],
   "source": [
    "# Lista de notas de alunos na avaliação final do curso de Machine Learning\n",
    "notas_alunos = [92, 81, 100, 92, 71, 73, 100, 92, 84, 100, 73, 92, 73, 84, 92, 92, 92, 84, 73, 100]"
   ]
  },
  {
   "cell_type": "code",
   "execution_count": 4,
   "id": "836590ba",
   "metadata": {},
   "outputs": [
    {
     "data": {
      "text/plain": [
       "20"
      ]
     },
     "execution_count": 4,
     "metadata": {},
     "output_type": "execute_result"
    }
   ],
   "source": [
    "len(notas_alunos)"
   ]
  },
  {
   "cell_type": "markdown",
   "id": "2b2df04f",
   "metadata": {},
   "source": [
    "## Solução com Series em Pandas"
   ]
  },
  {
   "cell_type": "code",
   "execution_count": 5,
   "id": "2f2ec1ca",
   "metadata": {},
   "outputs": [],
   "source": [
    "# Cria uma série com notas e frequências  (contagens por nota)\n",
    "df1 = pd.Series(notas_alunos).value_counts().reset_index().sort_values('index').reset_index(drop = True)"
   ]
  },
  {
   "cell_type": "code",
   "execution_count": 6,
   "id": "7f8454f3",
   "metadata": {},
   "outputs": [
    {
     "data": {
      "text/plain": [
       "pandas.core.frame.DataFrame"
      ]
     },
     "execution_count": 6,
     "metadata": {},
     "output_type": "execute_result"
    }
   ],
   "source": [
    "type(df1)"
   ]
  },
  {
   "cell_type": "code",
   "execution_count": 7,
   "id": "3e181b36",
   "metadata": {},
   "outputs": [
    {
     "data": {
      "text/html": [
       "<div>\n",
       "<style scoped>\n",
       "    .dataframe tbody tr th:only-of-type {\n",
       "        vertical-align: middle;\n",
       "    }\n",
       "\n",
       "    .dataframe tbody tr th {\n",
       "        vertical-align: top;\n",
       "    }\n",
       "\n",
       "    .dataframe thead th {\n",
       "        text-align: right;\n",
       "    }\n",
       "</style>\n",
       "<table border=\"1\" class=\"dataframe\">\n",
       "  <thead>\n",
       "    <tr style=\"text-align: right;\">\n",
       "      <th></th>\n",
       "      <th>Nota</th>\n",
       "      <th>Frequencia</th>\n",
       "    </tr>\n",
       "  </thead>\n",
       "  <tbody>\n",
       "    <tr>\n",
       "      <th>0</th>\n",
       "      <td>71</td>\n",
       "      <td>1</td>\n",
       "    </tr>\n",
       "    <tr>\n",
       "      <th>1</th>\n",
       "      <td>73</td>\n",
       "      <td>4</td>\n",
       "    </tr>\n",
       "    <tr>\n",
       "      <th>2</th>\n",
       "      <td>81</td>\n",
       "      <td>1</td>\n",
       "    </tr>\n",
       "    <tr>\n",
       "      <th>3</th>\n",
       "      <td>84</td>\n",
       "      <td>3</td>\n",
       "    </tr>\n",
       "    <tr>\n",
       "      <th>4</th>\n",
       "      <td>92</td>\n",
       "      <td>7</td>\n",
       "    </tr>\n",
       "    <tr>\n",
       "      <th>5</th>\n",
       "      <td>100</td>\n",
       "      <td>4</td>\n",
       "    </tr>\n",
       "  </tbody>\n",
       "</table>\n",
       "</div>"
      ],
      "text/plain": [
       "   Nota  Frequencia\n",
       "0    71           1\n",
       "1    73           4\n",
       "2    81           1\n",
       "3    84           3\n",
       "4    92           7\n",
       "5   100           4"
      ]
     },
     "execution_count": 7,
     "metadata": {},
     "output_type": "execute_result"
    }
   ],
   "source": [
    "# ALtera os nomes das colunas\n",
    "df1.columns = ['Nota','Frequencia']\n",
    "df1"
   ]
  },
  {
   "cell_type": "code",
   "execution_count": 8,
   "id": "93e224f2",
   "metadata": {},
   "outputs": [
    {
     "data": {
      "text/html": [
       "<div>\n",
       "<style scoped>\n",
       "    .dataframe tbody tr th:only-of-type {\n",
       "        vertical-align: middle;\n",
       "    }\n",
       "\n",
       "    .dataframe tbody tr th {\n",
       "        vertical-align: top;\n",
       "    }\n",
       "\n",
       "    .dataframe thead th {\n",
       "        text-align: right;\n",
       "    }\n",
       "</style>\n",
       "<table border=\"1\" class=\"dataframe\">\n",
       "  <thead>\n",
       "    <tr style=\"text-align: right;\">\n",
       "      <th></th>\n",
       "      <th>Nota</th>\n",
       "      <th>Frequencia</th>\n",
       "    </tr>\n",
       "  </thead>\n",
       "  <tbody>\n",
       "    <tr>\n",
       "      <th>0</th>\n",
       "      <td>(70.97, 80.667]</td>\n",
       "      <td>5</td>\n",
       "    </tr>\n",
       "    <tr>\n",
       "      <th>1</th>\n",
       "      <td>(80.667, 90.333]</td>\n",
       "      <td>4</td>\n",
       "    </tr>\n",
       "    <tr>\n",
       "      <th>2</th>\n",
       "      <td>(90.333, 100.0]</td>\n",
       "      <td>11</td>\n",
       "    </tr>\n",
       "  </tbody>\n",
       "</table>\n",
       "</div>"
      ],
      "text/plain": [
       "               Nota  Frequencia\n",
       "0   (70.97, 80.667]           5\n",
       "1  (80.667, 90.333]           4\n",
       "2   (90.333, 100.0]          11"
      ]
     },
     "execution_count": 8,
     "metadata": {},
     "output_type": "execute_result"
    }
   ],
   "source": [
    "# Série com notas e frequencias, alterando a quantidade de classes\n",
    "df1 = pd.Series(notas_alunos).value_counts(bins = 3).reset_index().sort_values('index').reset_index(drop = True)\n",
    "df1.columns = ['Nota','Frequencia']\n",
    "df1\n"
   ]
  },
  {
   "cell_type": "markdown",
   "id": "e98551a6",
   "metadata": {},
   "source": [
    "## Solução com Dataframes em Pandas "
   ]
  },
  {
   "cell_type": "markdown",
   "id": "9feb1784",
   "metadata": {},
   "source": [
    "### Distribuição de Frequência Simples ou Absoluta - fi \n",
    "São os valores que representam o número de dados de cada classe. A soma das frequências simples é igual ao número total dos dados.\n"
   ]
  },
  {
   "cell_type": "code",
   "execution_count": 10,
   "id": "cfe9a1eb",
   "metadata": {},
   "outputs": [
    {
     "data": {
      "text/html": [
       "<div>\n",
       "<style scoped>\n",
       "    .dataframe tbody tr th:only-of-type {\n",
       "        vertical-align: middle;\n",
       "    }\n",
       "\n",
       "    .dataframe tbody tr th {\n",
       "        vertical-align: top;\n",
       "    }\n",
       "\n",
       "    .dataframe thead th {\n",
       "        text-align: right;\n",
       "    }\n",
       "</style>\n",
       "<table border=\"1\" class=\"dataframe\">\n",
       "  <thead>\n",
       "    <tr style=\"text-align: right;\">\n",
       "      <th></th>\n",
       "      <th>fi</th>\n",
       "    </tr>\n",
       "    <tr>\n",
       "      <th>Nota</th>\n",
       "      <th></th>\n",
       "    </tr>\n",
       "  </thead>\n",
       "  <tbody>\n",
       "    <tr>\n",
       "      <th>71</th>\n",
       "      <td>1</td>\n",
       "    </tr>\n",
       "    <tr>\n",
       "      <th>73</th>\n",
       "      <td>4</td>\n",
       "    </tr>\n",
       "    <tr>\n",
       "      <th>81</th>\n",
       "      <td>1</td>\n",
       "    </tr>\n",
       "    <tr>\n",
       "      <th>84</th>\n",
       "      <td>3</td>\n",
       "    </tr>\n",
       "    <tr>\n",
       "      <th>92</th>\n",
       "      <td>7</td>\n",
       "    </tr>\n",
       "    <tr>\n",
       "      <th>100</th>\n",
       "      <td>4</td>\n",
       "    </tr>\n",
       "  </tbody>\n",
       "</table>\n",
       "</div>"
      ],
      "text/plain": [
       "      fi\n",
       "Nota    \n",
       "71     1\n",
       "73     4\n",
       "81     1\n",
       "84     3\n",
       "92     7\n",
       "100    4"
      ]
     },
     "execution_count": 10,
     "metadata": {},
     "output_type": "execute_result"
    }
   ],
   "source": [
    "df2 = pd.value_counts(notas_alunos).to_frame(name = 'fi').rename_axis(\"Nota\").sort_index()\n",
    "df2"
   ]
  },
  {
   "cell_type": "markdown",
   "id": "f42b2726",
   "metadata": {},
   "source": [
    "### Distribuição de Frequência Relativa Simples -  fri \n",
    "Permite visualizar os valores das razões entre as Frequências Simples e a Frequência Total.\n"
   ]
  },
  {
   "cell_type": "code",
   "execution_count": 11,
   "id": "f063f896",
   "metadata": {},
   "outputs": [
    {
     "name": "stdout",
     "output_type": "stream",
     "text": [
      "      fi   fri\n",
      "Nota          \n",
      "71     1  0.05\n",
      "73     4  0.20\n",
      "81     1  0.05\n",
      "84     3  0.15\n",
      "92     7  0.35\n",
      "100    4  0.20\n"
     ]
    }
   ],
   "source": [
    "df2['fri'] = pd.value_counts(notas_alunos) / len(notas_alunos)\n",
    "print(df2)"
   ]
  },
  {
   "cell_type": "markdown",
   "id": "f146b580",
   "metadata": {},
   "source": [
    "### Distribuição de Frequência Acumulada -  Fi "
   ]
  },
  {
   "cell_type": "markdown",
   "id": "beb19220",
   "metadata": {},
   "source": [
    "Permite visualizar o total das Frequências de todos os valores inferiores ao limite superior do intervalo de uma dada classe."
   ]
  },
  {
   "cell_type": "code",
   "execution_count": 12,
   "id": "0af77938",
   "metadata": {},
   "outputs": [
    {
     "name": "stdout",
     "output_type": "stream",
     "text": [
      "      fi   fri  Fi\n",
      "Nota              \n",
      "71     1  0.05   1\n",
      "73     4  0.20   5\n",
      "81     1  0.05   6\n",
      "84     3  0.15   9\n",
      "92     7  0.35  16\n",
      "100    4  0.20  20\n"
     ]
    }
   ],
   "source": [
    "df2['Fi'] = df2.fi.cumsum()\n",
    "print(df2)"
   ]
  },
  {
   "cell_type": "markdown",
   "id": "449cd7d5",
   "metadata": {},
   "source": [
    "### Distribuição de Frequência Relativa Acumulada -  Fri\n",
    "Permite visualizar a frequência acumulada da classe, dividida pela frequência total da distribuição."
   ]
  },
  {
   "cell_type": "code",
   "execution_count": 13,
   "id": "af7945bb",
   "metadata": {},
   "outputs": [
    {
     "name": "stdout",
     "output_type": "stream",
     "text": [
      "      fi   fri  Fi   Fri\n",
      "Nota                    \n",
      "71     1  0.05   1  0.05\n",
      "73     4  0.20   5  0.25\n",
      "81     1  0.05   6  0.30\n",
      "84     3  0.15   9  0.45\n",
      "92     7  0.35  16  0.80\n",
      "100    4  0.20  20  1.00\n"
     ]
    }
   ],
   "source": [
    "df2['Fri'] = df2.fi.cumsum() / len(notas_alunos)\n",
    "print(df2)"
   ]
  },
  {
   "cell_type": "code",
   "execution_count": 14,
   "id": "e9da19ea",
   "metadata": {},
   "outputs": [
    {
     "name": "stdout",
     "output_type": "stream",
     "text": [
      "Author: Lucas Castro\n",
      "\n",
      "pandas: 1.4.2\n",
      "\n"
     ]
    }
   ],
   "source": [
    "# Versões dos pacotes usados neste jupyter notebook\n",
    "%reload_ext watermark\n",
    "%watermark -a \"Lucas Castro\" --iversions"
   ]
  },
  {
   "cell_type": "markdown",
   "id": "91efbcc2",
   "metadata": {},
   "source": [
    "## FIM"
   ]
  }
 ],
 "metadata": {
  "kernelspec": {
   "display_name": "Python 3 (ipykernel)",
   "language": "python",
   "name": "python3"
  },
  "language_info": {
   "codemirror_mode": {
    "name": "ipython",
    "version": 3
   },
   "file_extension": ".py",
   "mimetype": "text/x-python",
   "name": "python",
   "nbconvert_exporter": "python",
   "pygments_lexer": "ipython3",
   "version": "3.9.12"
  }
 },
 "nbformat": 4,
 "nbformat_minor": 5
}
