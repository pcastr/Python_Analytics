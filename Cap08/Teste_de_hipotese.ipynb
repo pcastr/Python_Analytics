{
 "cells": [
  {
   "cell_type": "markdown",
   "id": "38af1169",
   "metadata": {},
   "source": [
    "# Teste de hipotese em Python "
   ]
  },
  {
   "cell_type": "markdown",
   "id": "a20ba540",
   "metadata": {},
   "source": [
    "Um  provedor  de  internetoferecediversos  tipos  de  planos  de  acessocom  diferentes largurasde banda. A empresa então fez um upgrade da sua infraestrutura e gostaria de validar algumas hipóteses sobre o consumo de largura de banda dos clientes.\n",
    "\n",
    "A empresa possuía dados do consumo médio de largura de banda antes do upgradee registrou o consumo no primeiro mês após o upgrade,no segundo mês e nomês anteriorao upgrade. Os dados foram registrados junto com algumas características dos clientes.\n",
    "\n",
    "Algumas perguntas de negócioforam formuladas e agora iremos respondê-las através de 4 testes de hipótese.\n",
    "\n",
    "Os dados usados são fictícios"
   ]
  },
  {
   "cell_type": "code",
   "execution_count": 1,
   "id": "bcc284ee",
   "metadata": {},
   "outputs": [
    {
     "name": "stdout",
     "output_type": "stream",
     "text": [
      "Versão da Linguagem Python Usada Neste Jupyter Notebook: 3.9.12\n"
     ]
    }
   ],
   "source": [
    "# Versão da Linguagem Python\n",
    "from platform import python_version\n",
    "print('Versão da Linguagem Python Usada Neste Jupyter Notebook:', python_version())"
   ]
  },
  {
   "cell_type": "code",
   "execution_count": 2,
   "id": "4e21d8af",
   "metadata": {},
   "outputs": [],
   "source": [
    "# Imports\n",
    "import pandas as pd\n",
    "import numpy as np\n",
    "import scipy.stats as stats"
   ]
  },
  {
   "cell_type": "code",
   "execution_count": 3,
   "id": "31aa2184",
   "metadata": {},
   "outputs": [],
   "source": [
    "# Carrega os dados\n",
    "df = pd.read_csv(r\"dados/dataset.csv\")"
   ]
  },
  {
   "cell_type": "code",
   "execution_count": 4,
   "id": "a70ac4f1",
   "metadata": {},
   "outputs": [
    {
     "data": {
      "text/plain": [
       "(200, 10)"
      ]
     },
     "execution_count": 4,
     "metadata": {},
     "output_type": "execute_result"
    }
   ],
   "source": [
    "df.shape"
   ]
  },
  {
   "cell_type": "code",
   "execution_count": 5,
   "id": "c85e688d",
   "metadata": {},
   "outputs": [
    {
     "data": {
      "text/html": [
       "<div>\n",
       "<style scoped>\n",
       "    .dataframe tbody tr th:only-of-type {\n",
       "        vertical-align: middle;\n",
       "    }\n",
       "\n",
       "    .dataframe tbody tr th {\n",
       "        vertical-align: top;\n",
       "    }\n",
       "\n",
       "    .dataframe thead th {\n",
       "        text-align: right;\n",
       "    }\n",
       "</style>\n",
       "<table border=\"1\" class=\"dataframe\">\n",
       "  <thead>\n",
       "    <tr style=\"text-align: right;\">\n",
       "      <th></th>\n",
       "      <th>id_cliente</th>\n",
       "      <th>genero</th>\n",
       "      <th>canal_atendimento</th>\n",
       "      <th>regiao</th>\n",
       "      <th>estado_civil</th>\n",
       "      <th>segmento</th>\n",
       "      <th>consumo_medio_mensal_antes_upgrade</th>\n",
       "      <th>consumo_medio_mes_anterior_ao_upgrade</th>\n",
       "      <th>consumo_medio_primeiro_mes_apos_upgrade</th>\n",
       "      <th>consumo_medio_segundo_mes_apos_upgrade</th>\n",
       "    </tr>\n",
       "  </thead>\n",
       "  <tbody>\n",
       "    <tr>\n",
       "      <th>0</th>\n",
       "      <td>70</td>\n",
       "      <td>0</td>\n",
       "      <td>4</td>\n",
       "      <td>1</td>\n",
       "      <td>1</td>\n",
       "      <td>1</td>\n",
       "      <td>57</td>\n",
       "      <td>49.2</td>\n",
       "      <td>52</td>\n",
       "      <td>57.2</td>\n",
       "    </tr>\n",
       "    <tr>\n",
       "      <th>1</th>\n",
       "      <td>121</td>\n",
       "      <td>1</td>\n",
       "      <td>4</td>\n",
       "      <td>2</td>\n",
       "      <td>1</td>\n",
       "      <td>3</td>\n",
       "      <td>68</td>\n",
       "      <td>63.6</td>\n",
       "      <td>59</td>\n",
       "      <td>64.9</td>\n",
       "    </tr>\n",
       "    <tr>\n",
       "      <th>2</th>\n",
       "      <td>86</td>\n",
       "      <td>0</td>\n",
       "      <td>4</td>\n",
       "      <td>3</td>\n",
       "      <td>1</td>\n",
       "      <td>1</td>\n",
       "      <td>44</td>\n",
       "      <td>64.8</td>\n",
       "      <td>33</td>\n",
       "      <td>36.3</td>\n",
       "    </tr>\n",
       "    <tr>\n",
       "      <th>3</th>\n",
       "      <td>141</td>\n",
       "      <td>0</td>\n",
       "      <td>4</td>\n",
       "      <td>3</td>\n",
       "      <td>1</td>\n",
       "      <td>3</td>\n",
       "      <td>63</td>\n",
       "      <td>56.4</td>\n",
       "      <td>44</td>\n",
       "      <td>48.4</td>\n",
       "    </tr>\n",
       "    <tr>\n",
       "      <th>4</th>\n",
       "      <td>172</td>\n",
       "      <td>0</td>\n",
       "      <td>4</td>\n",
       "      <td>2</td>\n",
       "      <td>1</td>\n",
       "      <td>2</td>\n",
       "      <td>47</td>\n",
       "      <td>68.4</td>\n",
       "      <td>52</td>\n",
       "      <td>57.2</td>\n",
       "    </tr>\n",
       "  </tbody>\n",
       "</table>\n",
       "</div>"
      ],
      "text/plain": [
       "   id_cliente  genero  canal_atendimento  regiao  estado_civil  segmento  \\\n",
       "0          70       0                  4       1             1         1   \n",
       "1         121       1                  4       2             1         3   \n",
       "2          86       0                  4       3             1         1   \n",
       "3         141       0                  4       3             1         3   \n",
       "4         172       0                  4       2             1         2   \n",
       "\n",
       "   consumo_medio_mensal_antes_upgrade  consumo_medio_mes_anterior_ao_upgrade  \\\n",
       "0                                  57                                   49.2   \n",
       "1                                  68                                   63.6   \n",
       "2                                  44                                   64.8   \n",
       "3                                  63                                   56.4   \n",
       "4                                  47                                   68.4   \n",
       "\n",
       "   consumo_medio_primeiro_mes_apos_upgrade  \\\n",
       "0                                       52   \n",
       "1                                       59   \n",
       "2                                       33   \n",
       "3                                       44   \n",
       "4                                       52   \n",
       "\n",
       "   consumo_medio_segundo_mes_apos_upgrade  \n",
       "0                                    57.2  \n",
       "1                                    64.9  \n",
       "2                                    36.3  \n",
       "3                                    48.4  \n",
       "4                                    57.2  "
      ]
     },
     "execution_count": 5,
     "metadata": {},
     "output_type": "execute_result"
    }
   ],
   "source": [
    "df.head()"
   ]
  },
  {
   "cell_type": "code",
   "execution_count": 6,
   "id": "f302ad2b",
   "metadata": {},
   "outputs": [
    {
     "data": {
      "text/plain": [
       "Index(['id_cliente', 'genero', 'canal_atendimento', 'regiao', 'estado_civil',\n",
       "       'segmento', 'consumo_medio_mensal_antes_upgrade',\n",
       "       'consumo_medio_mes_anterior_ao_upgrade',\n",
       "       'consumo_medio_primeiro_mes_apos_upgrade',\n",
       "       'consumo_medio_segundo_mes_apos_upgrade'],\n",
       "      dtype='object')"
      ]
     },
     "execution_count": 6,
     "metadata": {},
     "output_type": "execute_result"
    }
   ],
   "source": [
    "df.columns"
   ]
  },
  {
   "cell_type": "code",
   "execution_count": 7,
   "id": "4c27c92d",
   "metadata": {},
   "outputs": [
    {
     "name": "stdout",
     "output_type": "stream",
     "text": [
      "<class 'pandas.core.frame.DataFrame'>\n",
      "RangeIndex: 200 entries, 0 to 199\n",
      "Data columns (total 10 columns):\n",
      " #   Column                                   Non-Null Count  Dtype  \n",
      "---  ------                                   --------------  -----  \n",
      " 0   id_cliente                               200 non-null    int64  \n",
      " 1   genero                                   200 non-null    int64  \n",
      " 2   canal_atendimento                        200 non-null    int64  \n",
      " 3   regiao                                   200 non-null    int64  \n",
      " 4   estado_civil                             200 non-null    int64  \n",
      " 5   segmento                                 200 non-null    int64  \n",
      " 6   consumo_medio_mensal_antes_upgrade       200 non-null    int64  \n",
      " 7   consumo_medio_mes_anterior_ao_upgrade    200 non-null    float64\n",
      " 8   consumo_medio_primeiro_mes_apos_upgrade  200 non-null    int64  \n",
      " 9   consumo_medio_segundo_mes_apos_upgrade   200 non-null    float64\n",
      "dtypes: float64(2), int64(8)\n",
      "memory usage: 15.8 KB\n"
     ]
    }
   ],
   "source": [
    "df.info()"
   ]
  },
  {
   "cell_type": "code",
   "execution_count": 8,
   "id": "5e8b0597",
   "metadata": {},
   "outputs": [
    {
     "data": {
      "text/html": [
       "<div>\n",
       "<style scoped>\n",
       "    .dataframe tbody tr th:only-of-type {\n",
       "        vertical-align: middle;\n",
       "    }\n",
       "\n",
       "    .dataframe tbody tr th {\n",
       "        vertical-align: top;\n",
       "    }\n",
       "\n",
       "    .dataframe thead th {\n",
       "        text-align: right;\n",
       "    }\n",
       "</style>\n",
       "<table border=\"1\" class=\"dataframe\">\n",
       "  <thead>\n",
       "    <tr style=\"text-align: right;\">\n",
       "      <th></th>\n",
       "      <th>id_cliente</th>\n",
       "      <th>genero</th>\n",
       "      <th>canal_atendimento</th>\n",
       "      <th>regiao</th>\n",
       "      <th>estado_civil</th>\n",
       "      <th>segmento</th>\n",
       "      <th>consumo_medio_mensal_antes_upgrade</th>\n",
       "      <th>consumo_medio_mes_anterior_ao_upgrade</th>\n",
       "      <th>consumo_medio_primeiro_mes_apos_upgrade</th>\n",
       "      <th>consumo_medio_segundo_mes_apos_upgrade</th>\n",
       "    </tr>\n",
       "  </thead>\n",
       "  <tbody>\n",
       "    <tr>\n",
       "      <th>count</th>\n",
       "      <td>200.000000</td>\n",
       "      <td>200.00000</td>\n",
       "      <td>200.000000</td>\n",
       "      <td>200.000000</td>\n",
       "      <td>200.000000</td>\n",
       "      <td>200.000000</td>\n",
       "      <td>200.000000</td>\n",
       "      <td>200.000000</td>\n",
       "      <td>200.000000</td>\n",
       "      <td>200.000000</td>\n",
       "    </tr>\n",
       "    <tr>\n",
       "      <th>mean</th>\n",
       "      <td>100.500000</td>\n",
       "      <td>0.54500</td>\n",
       "      <td>3.430000</td>\n",
       "      <td>2.055000</td>\n",
       "      <td>1.160000</td>\n",
       "      <td>2.025000</td>\n",
       "      <td>52.230000</td>\n",
       "      <td>63.174000</td>\n",
       "      <td>52.775000</td>\n",
       "      <td>58.052500</td>\n",
       "    </tr>\n",
       "    <tr>\n",
       "      <th>std</th>\n",
       "      <td>57.879185</td>\n",
       "      <td>0.49922</td>\n",
       "      <td>1.039472</td>\n",
       "      <td>0.724291</td>\n",
       "      <td>0.367526</td>\n",
       "      <td>0.690477</td>\n",
       "      <td>10.252937</td>\n",
       "      <td>11.242137</td>\n",
       "      <td>9.478586</td>\n",
       "      <td>10.426445</td>\n",
       "    </tr>\n",
       "    <tr>\n",
       "      <th>min</th>\n",
       "      <td>1.000000</td>\n",
       "      <td>0.00000</td>\n",
       "      <td>1.000000</td>\n",
       "      <td>1.000000</td>\n",
       "      <td>1.000000</td>\n",
       "      <td>1.000000</td>\n",
       "      <td>28.000000</td>\n",
       "      <td>39.600000</td>\n",
       "      <td>31.000000</td>\n",
       "      <td>34.100000</td>\n",
       "    </tr>\n",
       "    <tr>\n",
       "      <th>25%</th>\n",
       "      <td>50.750000</td>\n",
       "      <td>0.00000</td>\n",
       "      <td>3.000000</td>\n",
       "      <td>2.000000</td>\n",
       "      <td>1.000000</td>\n",
       "      <td>2.000000</td>\n",
       "      <td>44.000000</td>\n",
       "      <td>54.000000</td>\n",
       "      <td>45.750000</td>\n",
       "      <td>50.325000</td>\n",
       "    </tr>\n",
       "    <tr>\n",
       "      <th>50%</th>\n",
       "      <td>100.500000</td>\n",
       "      <td>1.00000</td>\n",
       "      <td>4.000000</td>\n",
       "      <td>2.000000</td>\n",
       "      <td>1.000000</td>\n",
       "      <td>2.000000</td>\n",
       "      <td>50.000000</td>\n",
       "      <td>62.400000</td>\n",
       "      <td>54.000000</td>\n",
       "      <td>59.400000</td>\n",
       "    </tr>\n",
       "    <tr>\n",
       "      <th>75%</th>\n",
       "      <td>150.250000</td>\n",
       "      <td>1.00000</td>\n",
       "      <td>4.000000</td>\n",
       "      <td>3.000000</td>\n",
       "      <td>1.000000</td>\n",
       "      <td>2.250000</td>\n",
       "      <td>60.000000</td>\n",
       "      <td>70.800000</td>\n",
       "      <td>60.000000</td>\n",
       "      <td>66.000000</td>\n",
       "    </tr>\n",
       "    <tr>\n",
       "      <th>max</th>\n",
       "      <td>200.000000</td>\n",
       "      <td>1.00000</td>\n",
       "      <td>4.000000</td>\n",
       "      <td>3.000000</td>\n",
       "      <td>2.000000</td>\n",
       "      <td>3.000000</td>\n",
       "      <td>76.000000</td>\n",
       "      <td>90.000000</td>\n",
       "      <td>67.000000</td>\n",
       "      <td>73.700000</td>\n",
       "    </tr>\n",
       "  </tbody>\n",
       "</table>\n",
       "</div>"
      ],
      "text/plain": [
       "       id_cliente     genero  canal_atendimento      regiao  estado_civil  \\\n",
       "count  200.000000  200.00000         200.000000  200.000000    200.000000   \n",
       "mean   100.500000    0.54500           3.430000    2.055000      1.160000   \n",
       "std     57.879185    0.49922           1.039472    0.724291      0.367526   \n",
       "min      1.000000    0.00000           1.000000    1.000000      1.000000   \n",
       "25%     50.750000    0.00000           3.000000    2.000000      1.000000   \n",
       "50%    100.500000    1.00000           4.000000    2.000000      1.000000   \n",
       "75%    150.250000    1.00000           4.000000    3.000000      1.000000   \n",
       "max    200.000000    1.00000           4.000000    3.000000      2.000000   \n",
       "\n",
       "         segmento  consumo_medio_mensal_antes_upgrade  \\\n",
       "count  200.000000                          200.000000   \n",
       "mean     2.025000                           52.230000   \n",
       "std      0.690477                           10.252937   \n",
       "min      1.000000                           28.000000   \n",
       "25%      2.000000                           44.000000   \n",
       "50%      2.000000                           50.000000   \n",
       "75%      2.250000                           60.000000   \n",
       "max      3.000000                           76.000000   \n",
       "\n",
       "       consumo_medio_mes_anterior_ao_upgrade  \\\n",
       "count                             200.000000   \n",
       "mean                               63.174000   \n",
       "std                                11.242137   \n",
       "min                                39.600000   \n",
       "25%                                54.000000   \n",
       "50%                                62.400000   \n",
       "75%                                70.800000   \n",
       "max                                90.000000   \n",
       "\n",
       "       consumo_medio_primeiro_mes_apos_upgrade  \\\n",
       "count                               200.000000   \n",
       "mean                                 52.775000   \n",
       "std                                   9.478586   \n",
       "min                                  31.000000   \n",
       "25%                                  45.750000   \n",
       "50%                                  54.000000   \n",
       "75%                                  60.000000   \n",
       "max                                  67.000000   \n",
       "\n",
       "       consumo_medio_segundo_mes_apos_upgrade  \n",
       "count                              200.000000  \n",
       "mean                                58.052500  \n",
       "std                                 10.426445  \n",
       "min                                 34.100000  \n",
       "25%                                 50.325000  \n",
       "50%                                 59.400000  \n",
       "75%                                 66.000000  \n",
       "max                                 73.700000  "
      ]
     },
     "execution_count": 8,
     "metadata": {},
     "output_type": "execute_result"
    }
   ],
   "source": [
    "df.describe()"
   ]
  },
  {
   "cell_type": "markdown",
   "id": "57134e40",
   "metadata": {},
   "source": [
    "## Pergunta 1: \n",
    "\n",
    "### O consumo médio de largura de banda do mês anterior ao upgrade foi maior que 50?\n",
    "\n",
    "### Neste caso usaremos um Teste t de Uma Amostra.\n",
    "\n",
    "https://docs.scipy.org/doc/scipy/reference/generated/scipy.stats.ttest_1samp.html\n",
    "\n",
    "Calculamos o Teste T para a média de 1 grupo. Este é um teste para a hipótese nula de que o valor esperado (média) de uma amostra de observações independentes é igual à média populacional dada, popmean.\n",
    "\n",
    "Hipóteses:\n",
    "\n",
    "- H0: O consumo médio de largura de banda antes do upgrade foi igual a 50.\n",
    "\n",
    "- H1: O consumo médio de largura de banda antes do upgrade foi diferente de 50.\n",
    "\n",
    "Se o valor-p for menor que 0,05 rejeitamos a H0. Caso contrário, falhamos em rejeitar a H0.\n",
    "\n",
    "Se um valor-p relatado a partir de um teste t for menor que 0,05, esse resultado é considerado estatisticamente significativo. Se um valor-p for maior que 0,05, o resultado é insignificante.\n",
    "\n",
    "Um valor-p de um teste t é a probabilidade de que os resultados de seus dados de amostra tenham ocorrido por acaso."
   ]
  },
  {
   "cell_type": "code",
   "execution_count": 9,
   "id": "ff9e2c0e",
   "metadata": {},
   "outputs": [
    {
     "data": {
      "text/plain": [
       "Ttest_1sampResult(statistic=16.57233752433133, pvalue=2.4963719280931583e-39)"
      ]
     },
     "execution_count": 9,
     "metadata": {},
     "output_type": "execute_result"
    }
   ],
   "source": [
    "# Executa o teste\n",
    "stats.ttest_1samp(a = df.consumo_medio_mes_anterior_ao_upgrade, popmean = 50)"
   ]
  },
  {
   "cell_type": "markdown",
   "id": "a1bba28a",
   "metadata": {},
   "source": [
    "Como o valor-p é muito pequeno (menor que 0.05), rejeitamos a H0 e consideramos como verdadeira a H1. O consumo médio de largura de banda antes do upgrade foi diferente de 50."
   ]
  },
  {
   "cell_type": "code",
   "execution_count": 10,
   "id": "b82465c8",
   "metadata": {},
   "outputs": [
    {
     "data": {
      "text/plain": [
       "63.17400000000001"
      ]
     },
     "execution_count": 10,
     "metadata": {},
     "output_type": "execute_result"
    }
   ],
   "source": [
    "# Conferindo a média\n",
    "df.consumo_medio_mes_anterior_ao_upgrade.mean()"
   ]
  },
  {
   "cell_type": "markdown",
   "id": "ca593215",
   "metadata": {},
   "source": [
    "## Pergunta 2:  \n",
    "\n",
    "### Houve diferença de consumo de largura de banda antes e depois do upgrade, considerando o primeiro mês após o upgrade?\n",
    "\n",
    "### Neste caso usaremos: Teste t de Duas Amostras (Pareado).\n",
    "\n",
    "https://docs.scipy.org/doc/scipy/reference/generated/scipy.stats.ttest_rel.html\n",
    "\n",
    "Este teste é usado quando temos duas amostras que são relacionadas ou dependentes. Este é um teste para a hipótese nula de que duas amo"
   ]
  },
  {
   "cell_type": "markdown",
   "id": "2b4dc84f",
   "metadata": {},
   "source": [
    "Hipóteses:\n",
    "\n",
    "- H0: O consumo antes do upgrade foi igual ao consumo após o upgrade (as médias são iguais).\n",
    "- H1: O consumo antes do upgrade foi diferente do consumo após o upgrade (as médias não são iguais).\n",
    "\n",
    "Se o valor-p for menor que 0,05 rejeitamos a H0. Caso contrário, falhamos em rejeitar a H0."
   ]
  },
  {
   "cell_type": "code",
   "execution_count": 11,
   "id": "78db7d68",
   "metadata": {},
   "outputs": [
    {
     "data": {
      "text/plain": [
       "Ttest_relResult(statistic=-0.8673065458794775, pvalue=0.3868186820914985)"
      ]
     },
     "execution_count": 11,
     "metadata": {},
     "output_type": "execute_result"
    }
   ],
   "source": [
    "# Executa o teste\n",
    "stats.ttest_rel(a = df.consumo_medio_mensal_antes_upgrade, b = df.consumo_medio_primeiro_mes_apos_upgrade)"
   ]
  },
  {
   "cell_type": "markdown",
   "id": "2d82cd08",
   "metadata": {},
   "source": [
    "Como o valor-p é maior que 0,05, falhamos em rejeitar a hipótese nula. Logo, o consumo médio no primeiro mês após o upgrade foi similar ao consumo médio antes do upgrade."
   ]
  },
  {
   "cell_type": "code",
   "execution_count": 12,
   "id": "15e56130",
   "metadata": {},
   "outputs": [
    {
     "name": "stdout",
     "output_type": "stream",
     "text": [
      "52.23\n",
      "52.775\n"
     ]
    }
   ],
   "source": [
    "print(df.consumo_medio_mensal_antes_upgrade.mean())\n",
    "print(df.consumo_medio_primeiro_mes_apos_upgrade.mean())"
   ]
  },
  {
   "cell_type": "markdown",
   "id": "9f30e094",
   "metadata": {},
   "source": [
    "## Pergunta 3:  \n",
    "### O gênero do cliente influenciou o consumo de largura de banda no primeiro mês após o upgrade?\n",
    "\n",
    "### Neste caso usaremos: Teste t de Duas Amostras Independentes.\n",
    "\n",
    "https://docs.scipy.org/doc/scipy/reference/generated/scipy.stats.ttest_ind.html\n",
    "\n",
    "Calculamos o Teste t para as médias de duas amostras independentes. Este é um teste para a hipótese nula de que 2 amostras independentes têm valores médios (esperados) idênticos. Este teste assume que as populações têm variâncias idênticas por padrão."
   ]
  },
  {
   "cell_type": "markdown",
   "id": "308da971",
   "metadata": {},
   "source": [
    "Hipóteses:\n",
    "\n",
    "- H0: Consumo de clientes do sexo masculino foi igual ao consumo de clientes do sexo feminino no primeiro mês após o upgrade (consumo médio foi igual entre os gêneros).\n",
    "\n",
    "- H1: Consumo de clientes do sexo masculino não foi igual ao consumo de clientes do sexo feminino no primeiro mês após o upgrade (consumo médio não foi igual entre os gêneros).\n",
    "\n",
    "Se o valor-p for menor que 0,05 rejeitamos a H0. Caso contrário, falhamos em rejeitar a H0."
   ]
  },
  {
   "cell_type": "code",
   "execution_count": 13,
   "id": "2f6d60f9",
   "metadata": {},
   "outputs": [
    {
     "data": {
      "text/plain": [
       "Index(['id_cliente', 'genero', 'canal_atendimento', 'regiao', 'estado_civil',\n",
       "       'segmento', 'consumo_medio_mensal_antes_upgrade',\n",
       "       'consumo_medio_mes_anterior_ao_upgrade',\n",
       "       'consumo_medio_primeiro_mes_apos_upgrade',\n",
       "       'consumo_medio_segundo_mes_apos_upgrade'],\n",
       "      dtype='object')"
      ]
     },
     "execution_count": 13,
     "metadata": {},
     "output_type": "execute_result"
    }
   ],
   "source": [
    "df.columns"
   ]
  },
  {
   "cell_type": "code",
   "execution_count": 14,
   "id": "f4dd19d8",
   "metadata": {},
   "outputs": [],
   "source": [
    "# Separamos as amostras\n",
    "consumo_cliente_masculino = df.consumo_medio_primeiro_mes_apos_upgrade[df.genero == 0]\n",
    "consumo_cliente_feminino = df.consumo_medio_primeiro_mes_apos_upgrade[df.genero == 1]"
   ]
  },
  {
   "cell_type": "code",
   "execution_count": 15,
   "id": "fe45854a",
   "metadata": {},
   "outputs": [
    {
     "name": "stdout",
     "output_type": "stream",
     "text": [
      "0    52\n",
      "2    33\n",
      "3    44\n",
      "4    52\n",
      "5    52\n",
      "Name: consumo_medio_primeiro_mes_apos_upgrade, dtype: int64\n",
      "1     59\n",
      "92    62\n",
      "93    44\n",
      "94    44\n",
      "95    62\n",
      "Name: consumo_medio_primeiro_mes_apos_upgrade, dtype: int64\n"
     ]
    }
   ],
   "source": [
    "print(consumo_cliente_masculino.head())\n",
    "print(consumo_cliente_feminino.head())"
   ]
  },
  {
   "cell_type": "code",
   "execution_count": 16,
   "id": "c6a52ad1",
   "metadata": {},
   "outputs": [
    {
     "name": "stdout",
     "output_type": "stream",
     "text": [
      "106.19633699633701\n",
      "66.15732246007477\n"
     ]
    }
   ],
   "source": [
    "print(consumo_cliente_masculino.var())\n",
    "print(consumo_cliente_feminino.var())"
   ]
  },
  {
   "cell_type": "code",
   "execution_count": 17,
   "id": "d350b02d",
   "metadata": {},
   "outputs": [
    {
     "name": "stdout",
     "output_type": "stream",
     "text": [
      "50.120879120879124\n",
      "54.99082568807339\n"
     ]
    }
   ],
   "source": [
    "print(consumo_cliente_masculino.mean())\n",
    "print(consumo_cliente_feminino.mean())"
   ]
  },
  {
   "cell_type": "code",
   "execution_count": 18,
   "id": "17761677",
   "metadata": {},
   "outputs": [
    {
     "data": {
      "text/plain": [
       "Ttest_indResult(statistic=-3.6564080478875276, pvalue=0.00034088493594266187)"
      ]
     },
     "execution_count": 18,
     "metadata": {},
     "output_type": "execute_result"
    }
   ],
   "source": [
    "# Executa o teste\n",
    "stats.ttest_ind(a = consumo_cliente_masculino, b = consumo_cliente_feminino, equal_var = False)"
   ]
  },
  {
   "cell_type": "code",
   "execution_count": 19,
   "id": "faa7a5c8",
   "metadata": {},
   "outputs": [
    {
     "data": {
      "text/plain": [
       "F_onewayResult(statistic=13.94330754080599, pvalue=0.0002462546120354903)"
      ]
     },
     "execution_count": 19,
     "metadata": {},
     "output_type": "execute_result"
    }
   ],
   "source": [
    "# Podemos usar ANOVA também\n",
    "stats.f_oneway(consumo_cliente_masculino, consumo_cliente_feminino)"
   ]
  },
  {
   "cell_type": "markdown",
   "id": "807e5fcd",
   "metadata": {},
   "source": [
    "Como o valor-p é menor que 0,05, rejeitamos a H0. Assim, concluímos que houve diferença entre o consumo masculino e o consumo feminino de largura de banda no primeiro mês após o upgrade."
   ]
  },
  {
   "cell_type": "markdown",
   "id": "593c08c9",
   "metadata": {},
   "source": [
    "## Pergunta 4: \n",
    "\n",
    "### Há alguma relação entre região e segmento do cliente?"
   ]
  },
  {
   "cell_type": "markdown",
   "id": "2001cbb6",
   "metadata": {},
   "source": [
    "### Neste caso usaremos: Teste do Qui-Quadrado.\n",
    "\n",
    "https://docs.scipy.org/doc/scipy/reference/generated/scipy.stats.chi2_contingency.html\n",
    "\n",
    "Teste qui-quadrado de independência de variáveis é usado em uma tabela de contingência. A função calcula a estatística qui-quadrado e o valor-p para o teste de hipótese de independência das frequências observadas na tabela de contingência. As frequências esperadas são calculadas com base nas somas marginais sob o pressuposto de independência.\n",
    "\n",
    "Hipóteses:\n",
    "\n",
    "- H0: Não há relacionamento entre região e segmento.\n",
    "- H1: Há relacionamento entre região e segmento.\n",
    "\n",
    "Se o valor-p for menor que 0,05 rejeitamos a H0. Caso contrário, falhamos em rejeitar a H0."
   ]
  },
  {
   "cell_type": "code",
   "execution_count": 20,
   "id": "a754ba2e",
   "metadata": {},
   "outputs": [
    {
     "data": {
      "text/html": [
       "<div>\n",
       "<style scoped>\n",
       "    .dataframe tbody tr th:only-of-type {\n",
       "        vertical-align: middle;\n",
       "    }\n",
       "\n",
       "    .dataframe tbody tr th {\n",
       "        vertical-align: top;\n",
       "    }\n",
       "\n",
       "    .dataframe thead th {\n",
       "        text-align: right;\n",
       "    }\n",
       "</style>\n",
       "<table border=\"1\" class=\"dataframe\">\n",
       "  <thead>\n",
       "    <tr style=\"text-align: right;\">\n",
       "      <th></th>\n",
       "      <th>id_cliente</th>\n",
       "      <th>genero</th>\n",
       "      <th>canal_atendimento</th>\n",
       "      <th>regiao</th>\n",
       "      <th>estado_civil</th>\n",
       "      <th>segmento</th>\n",
       "      <th>consumo_medio_mensal_antes_upgrade</th>\n",
       "      <th>consumo_medio_mes_anterior_ao_upgrade</th>\n",
       "      <th>consumo_medio_primeiro_mes_apos_upgrade</th>\n",
       "      <th>consumo_medio_segundo_mes_apos_upgrade</th>\n",
       "    </tr>\n",
       "  </thead>\n",
       "  <tbody>\n",
       "    <tr>\n",
       "      <th>0</th>\n",
       "      <td>70</td>\n",
       "      <td>0</td>\n",
       "      <td>4</td>\n",
       "      <td>1</td>\n",
       "      <td>1</td>\n",
       "      <td>1</td>\n",
       "      <td>57</td>\n",
       "      <td>49.2</td>\n",
       "      <td>52</td>\n",
       "      <td>57.2</td>\n",
       "    </tr>\n",
       "    <tr>\n",
       "      <th>1</th>\n",
       "      <td>121</td>\n",
       "      <td>1</td>\n",
       "      <td>4</td>\n",
       "      <td>2</td>\n",
       "      <td>1</td>\n",
       "      <td>3</td>\n",
       "      <td>68</td>\n",
       "      <td>63.6</td>\n",
       "      <td>59</td>\n",
       "      <td>64.9</td>\n",
       "    </tr>\n",
       "    <tr>\n",
       "      <th>2</th>\n",
       "      <td>86</td>\n",
       "      <td>0</td>\n",
       "      <td>4</td>\n",
       "      <td>3</td>\n",
       "      <td>1</td>\n",
       "      <td>1</td>\n",
       "      <td>44</td>\n",
       "      <td>64.8</td>\n",
       "      <td>33</td>\n",
       "      <td>36.3</td>\n",
       "    </tr>\n",
       "    <tr>\n",
       "      <th>3</th>\n",
       "      <td>141</td>\n",
       "      <td>0</td>\n",
       "      <td>4</td>\n",
       "      <td>3</td>\n",
       "      <td>1</td>\n",
       "      <td>3</td>\n",
       "      <td>63</td>\n",
       "      <td>56.4</td>\n",
       "      <td>44</td>\n",
       "      <td>48.4</td>\n",
       "    </tr>\n",
       "    <tr>\n",
       "      <th>4</th>\n",
       "      <td>172</td>\n",
       "      <td>0</td>\n",
       "      <td>4</td>\n",
       "      <td>2</td>\n",
       "      <td>1</td>\n",
       "      <td>2</td>\n",
       "      <td>47</td>\n",
       "      <td>68.4</td>\n",
       "      <td>52</td>\n",
       "      <td>57.2</td>\n",
       "    </tr>\n",
       "  </tbody>\n",
       "</table>\n",
       "</div>"
      ],
      "text/plain": [
       "   id_cliente  genero  canal_atendimento  regiao  estado_civil  segmento  \\\n",
       "0          70       0                  4       1             1         1   \n",
       "1         121       1                  4       2             1         3   \n",
       "2          86       0                  4       3             1         1   \n",
       "3         141       0                  4       3             1         3   \n",
       "4         172       0                  4       2             1         2   \n",
       "\n",
       "   consumo_medio_mensal_antes_upgrade  consumo_medio_mes_anterior_ao_upgrade  \\\n",
       "0                                  57                                   49.2   \n",
       "1                                  68                                   63.6   \n",
       "2                                  44                                   64.8   \n",
       "3                                  63                                   56.4   \n",
       "4                                  47                                   68.4   \n",
       "\n",
       "   consumo_medio_primeiro_mes_apos_upgrade  \\\n",
       "0                                       52   \n",
       "1                                       59   \n",
       "2                                       33   \n",
       "3                                       44   \n",
       "4                                       52   \n",
       "\n",
       "   consumo_medio_segundo_mes_apos_upgrade  \n",
       "0                                    57.2  \n",
       "1                                    64.9  \n",
       "2                                    36.3  \n",
       "3                                    48.4  \n",
       "4                                    57.2  "
      ]
     },
     "execution_count": 20,
     "metadata": {},
     "output_type": "execute_result"
    }
   ],
   "source": [
    "df.head()"
   ]
  },
  {
   "cell_type": "code",
   "execution_count": 21,
   "id": "4138fed7",
   "metadata": {},
   "outputs": [
    {
     "data": {
      "text/html": [
       "<div>\n",
       "<style scoped>\n",
       "    .dataframe tbody tr th:only-of-type {\n",
       "        vertical-align: middle;\n",
       "    }\n",
       "\n",
       "    .dataframe tbody tr th {\n",
       "        vertical-align: top;\n",
       "    }\n",
       "\n",
       "    .dataframe thead th {\n",
       "        text-align: right;\n",
       "    }\n",
       "</style>\n",
       "<table border=\"1\" class=\"dataframe\">\n",
       "  <thead>\n",
       "    <tr style=\"text-align: right;\">\n",
       "      <th>regiao</th>\n",
       "      <th>1</th>\n",
       "      <th>2</th>\n",
       "      <th>3</th>\n",
       "      <th>All</th>\n",
       "    </tr>\n",
       "    <tr>\n",
       "      <th>segmento</th>\n",
       "      <th></th>\n",
       "      <th></th>\n",
       "      <th></th>\n",
       "      <th></th>\n",
       "    </tr>\n",
       "  </thead>\n",
       "  <tbody>\n",
       "    <tr>\n",
       "      <th>1</th>\n",
       "      <td>16</td>\n",
       "      <td>20</td>\n",
       "      <td>9</td>\n",
       "      <td>45</td>\n",
       "    </tr>\n",
       "    <tr>\n",
       "      <th>2</th>\n",
       "      <td>19</td>\n",
       "      <td>44</td>\n",
       "      <td>42</td>\n",
       "      <td>105</td>\n",
       "    </tr>\n",
       "    <tr>\n",
       "      <th>3</th>\n",
       "      <td>12</td>\n",
       "      <td>31</td>\n",
       "      <td>7</td>\n",
       "      <td>50</td>\n",
       "    </tr>\n",
       "    <tr>\n",
       "      <th>All</th>\n",
       "      <td>47</td>\n",
       "      <td>95</td>\n",
       "      <td>58</td>\n",
       "      <td>200</td>\n",
       "    </tr>\n",
       "  </tbody>\n",
       "</table>\n",
       "</div>"
      ],
      "text/plain": [
       "regiao     1   2   3  All\n",
       "segmento                 \n",
       "1         16  20   9   45\n",
       "2         19  44  42  105\n",
       "3         12  31   7   50\n",
       "All       47  95  58  200"
      ]
     },
     "execution_count": 21,
     "metadata": {},
     "output_type": "execute_result"
    }
   ],
   "source": [
    "# Tabela de contingência\n",
    "tabela_cont = pd.crosstab(df.segmento, df.regiao, margins = True)\n",
    "tabela_cont"
   ]
  },
  {
   "cell_type": "code",
   "execution_count": 22,
   "id": "2b2ecc5d",
   "metadata": {},
   "outputs": [],
   "source": [
    "# Executa o teste\n",
    "chi2, p, dof, ex = stats.chi2_contingency(observed = tabela_cont)"
   ]
  },
  {
   "cell_type": "code",
   "execution_count": 23,
   "id": "0700592a",
   "metadata": {},
   "outputs": [
    {
     "data": {
      "text/plain": [
       "0.055282939487992365"
      ]
     },
     "execution_count": 23,
     "metadata": {},
     "output_type": "execute_result"
    }
   ],
   "source": [
    "# Valor-p\n",
    "p"
   ]
  },
  {
   "cell_type": "markdown",
   "id": "fa33343b",
   "metadata": {},
   "source": [
    "Com base no valor-p maior que 0.05, falhamos em rejeitar a H0 e podemos dizer que não há relação entre região e segmento do cliente."
   ]
  },
  {
   "cell_type": "markdown",
   "id": "5f2618f9",
   "metadata": {},
   "source": [
    "# Fim"
   ]
  }
 ],
 "metadata": {
  "kernelspec": {
   "display_name": "Python 3 (ipykernel)",
   "language": "python",
   "name": "python3"
  },
  "language_info": {
   "codemirror_mode": {
    "name": "ipython",
    "version": 3
   },
   "file_extension": ".py",
   "mimetype": "text/x-python",
   "name": "python",
   "nbconvert_exporter": "python",
   "pygments_lexer": "ipython3",
   "version": "3.9.12"
  }
 },
 "nbformat": 4,
 "nbformat_minor": 5
}
